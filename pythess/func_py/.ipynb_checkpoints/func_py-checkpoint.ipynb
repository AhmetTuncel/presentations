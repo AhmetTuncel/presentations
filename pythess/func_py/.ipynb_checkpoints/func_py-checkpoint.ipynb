{
 "cells": [
  {
   "cell_type": "markdown",
   "metadata": {
    "slideshow": {
     "slide_type": "slide"
    }
   },
   "source": [
    "# Using functional programming in Python like a boss: Generators, Iterators and Decorators\n",
    "\n",
    "<img src=\"figures/simple_man.jpg\\\" style=\"display:block;margin:auto;width:80%;\"/>"
   ]
  },
  {
   "cell_type": "markdown",
   "metadata": {
    "slideshow": {
     "slide_type": "slide"
    }
   },
   "source": [
    "# Features of functions\n",
    "1. First-class functions are objects and thus:\n",
    "    * Can be assigned to variables\n",
    "    * Can be stored in data structures\n",
    "    * Can be used as parameters\n",
    "    * Can be used as a return value\n",
    "2. Higher order functions:\n",
    "    * Accept a function as an argument and/or return a function as a value.\n",
    "    * Create composite functions from simpler functions.\n",
    "    * Modify the behavior of existing functions.\n",
    "3. Pure functions:\n",
    "   * Do not depend on hidden state, or equivalently depend only on their input.\n",
    "   * Evaluation of the function does not cause side effects\n"
   ]
  },
  {
   "cell_type": "code",
   "execution_count": 1,
   "metadata": {
    "collapsed": true,
    "slideshow": {
     "slide_type": "fragment"
    }
   },
   "outputs": [],
   "source": [
    "# A pure function\n",
    "def my_min(x, y):\n",
    "    if x < y:\n",
    "        return x\n",
    "    else:\n",
    "        return y\n",
    "\n",
    "\n",
    "# An impure function\n",
    "# 1) Depends on global variable, 2) Changes its input\n",
    "exponent = 2\n",
    "\n",
    "def my_powers(L):\n",
    "    for i in range(len(L)):\n",
    "        L[i] = L[i]**exponent\n",
    "    return L"
   ]
  },
  {
   "cell_type": "markdown",
   "metadata": {
    "collapsed": true,
    "slideshow": {
     "slide_type": "slide"
    }
   },
   "source": [
    "# What can act as a function in Python?\n",
    "1. A function object, created with the `def` statement.\n",
    "2. A `lambda` anonymous function, restricted to an expression in single line.\n",
    "3. An instance of a class implementing the `__call__` function."
   ]
  },
  {
   "cell_type": "code",
   "execution_count": 2,
   "metadata": {
    "collapsed": false,
    "slideshow": {
     "slide_type": "fragment"
    }
   },
   "outputs": [
    {
     "name": "stdout",
     "output_type": "stream",
     "text": [
      "True\n"
     ]
    }
   ],
   "source": [
    "def min_def(x, y):\n",
    "    return x if x < y else y\n",
    "\n",
    "min_lambda = lambda x, y: x if x < y else y\n",
    "\n",
    "class MinClass:\n",
    "    def __call__(self, x, y):\n",
    "        return x if x < y else y\n",
    "\n",
    "min_class = MinClass()\n",
    "print(min_def(2,3) == min_lambda(2, 3) == min_class(2,3))"
   ]
  },
  {
   "cell_type": "markdown",
   "metadata": {
    "slideshow": {
     "slide_type": "slide"
    }
   },
   "source": [
    "# Common gotchas 1: Mutable Default Arguments\n",
    "\n",
    "* Python's default arguments are evaluated once when the function is **defined** and **not each time the function is called** (like say, in Ruby).\n",
    "* If you use a mutable default argument and mutate it, you will and have mutated that object for all future calls to the function as well.\n",
    "* Sometimes you can specifically \"exploit\" (read: use as intended) this behavior to maintain state between calls of a function. This is often done when writing a caching function."
   ]
  },
  {
   "cell_type": "code",
   "execution_count": 3,
   "metadata": {
    "collapsed": false,
    "slideshow": {
     "slide_type": "fragment"
    }
   },
   "outputs": [
    {
     "name": "stdout",
     "output_type": "stream",
     "text": [
      "my_list: [12]\n",
      "my_other_list: [12, 42]\n",
      "my_list2: [12]\n",
      "my_other_list2: [42]\n"
     ]
    }
   ],
   "source": [
    "def append_to(element, to=[]):\n",
    "    to.append(element)\n",
    "    return to\n",
    "\n",
    "my_list = append_to(12)\n",
    "print(\"my_list:\", my_list)\n",
    "my_other_list = append_to(42)\n",
    "print(\"my_other_list:\", my_other_list)\n",
    "\n",
    "def append_to2(element, to=None):\n",
    "    if to is None:\n",
    "        to = []\n",
    "    to.append(element)\n",
    "    return to\n",
    "\n",
    "my_list2 = append_to2(12)\n",
    "print(\"my_list2:\", my_list2)\n",
    "my_other_list2 = append_to2(42)\n",
    "print(\"my_other_list2:\", my_other_list2)"
   ]
  },
  {
   "cell_type": "markdown",
   "metadata": {
    "slideshow": {
     "slide_type": "slide"
    }
   },
   "source": [
    "# Common gotchas 2: Late Binding Closures\n",
    "\n",
    "1. A closure occurs when a function has access to a local variable from an enclosing scope that has finished its execution.\n",
    "2. Python's closures are *late binding*.\n",
    "3. Values of variables used in closures are looked up at the time the inner function is **called** and **not when it is defined**."
   ]
  },
  {
   "cell_type": "code",
   "execution_count": 4,
   "metadata": {
    "collapsed": false,
    "slideshow": {
     "slide_type": "fragment"
    }
   },
   "outputs": [
    {
     "name": "stdout",
     "output_type": "stream",
     "text": [
      "8\n",
      "8\n",
      "8\n",
      "8\n",
      "8\n"
     ]
    }
   ],
   "source": [
    "def create_multipliers():\n",
    "    multipliers = []\n",
    "\n",
    "    for i in range(5):\n",
    "        def multiplier(x):\n",
    "            return i * x\n",
    "        multipliers.append(multiplier)\n",
    "\n",
    "    return multipliers\n",
    "\n",
    "for multiplier in create_multipliers():\n",
    "    print(multiplier(2))"
   ]
  },
  {
   "cell_type": "markdown",
   "metadata": {
    "slideshow": {
     "slide_type": "slide"
    }
   },
   "source": [
    "# Higher order functions and decorators\n",
    "\n",
    "* Python functions are objects.\n",
    "* Can be defined in functions.\n",
    "* Can be assigned to variables.\n",
    "* Can be used as function parameters or returned from functions.\n",
    "* Decorators are syntactic sugar for higher order functions."
   ]
  },
  {
   "cell_type": "markdown",
   "metadata": {
    "slideshow": {
     "slide_type": "slide"
    }
   },
   "source": [
    "<img src=\"figures/brace_yourselves.jpg\" style=\"display:block;margin:auto;width:80%;\"/>"
   ]
  },
  {
   "cell_type": "code",
   "execution_count": 12,
   "metadata": {
    "collapsed": false,
    "slideshow": {
     "slide_type": "slide"
    }
   },
   "outputs": [
    {
     "name": "stdout",
     "output_type": "stream",
     "text": [
      "hello world\n",
      "<b>hello world</b>\n"
     ]
    }
   ],
   "source": [
    "# Higher order functions\n",
    "\n",
    "def makebold(fn):\n",
    "    def wrapped():\n",
    "        return \"<b>\" + fn() + \"</b>\"\n",
    "    return wrapped\n",
    "\n",
    "def hello():\n",
    "    return \"hello world\"\n",
    "\n",
    "print(hello())\n",
    "hello = makebold(hello)\n",
    "print(hello())"
   ]
  },
  {
   "cell_type": "code",
   "execution_count": 6,
   "metadata": {
    "collapsed": false,
    "slideshow": {
     "slide_type": "slide"
    }
   },
   "outputs": [
    {
     "name": "stdout",
     "output_type": "stream",
     "text": [
      "<b>Hello. args: ('world', 'pythess'), kwargs: {'where': 'soho'}</b>\n"
     ]
    }
   ],
   "source": [
    "# Decorated function with *args and **kewargs\n",
    "\n",
    "def makebold(fn):\n",
    "    def wrapped(*args, **kwargs):\n",
    "        return \"<b>\" + fn(*args, **kwargs) + \"</b>\"\n",
    "    return wrapped\n",
    "\n",
    "@makebold  # hello = makebold(hello)\n",
    "def hello(*args, **kwargs):\n",
    "    return \"Hello. args: {}, kwargs: {}\".format(args, kwargs)\n",
    "\n",
    "print(hello('world', 'pythess', where='soho'))"
   ]
  },
  {
   "cell_type": "code",
   "execution_count": 7,
   "metadata": {
    "collapsed": false,
    "slideshow": {
     "slide_type": "fragment"
    }
   },
   "outputs": [
    {
     "name": "stdout",
     "output_type": "stream",
     "text": [
      "<i><b>Hello. args: ('world', 'pythess'), kwargs: {'where': 'soho'}</b></i>\n"
     ]
    }
   ],
   "source": [
    "# Decorators can be combined\n",
    "\n",
    "def makeitalic(fn):\n",
    "    def wrapped(*args, **kwargs):\n",
    "        return \"<i>\" + fn(*args, **kwargs) + \"</i>\"\n",
    "    return wrapped\n",
    "\n",
    "def makebold(fn):\n",
    "    def wrapped(*args, **kwargs):\n",
    "        return \"<b>\" + fn(*args, **kwargs) + \"</b>\"\n",
    "    return wrapped\n",
    "\n",
    "@makeitalic\n",
    "@makebold  # hello = makeitalic(makebold(hello))\n",
    "def hello(*args, **kwargs):\n",
    "    return \"Hello. args: {}, kwargs: {}\".format(args, kwargs)\n",
    "\n",
    "print(hello('world', 'pythess', where='soho'))"
   ]
  },
  {
   "cell_type": "code",
   "execution_count": 8,
   "metadata": {
    "collapsed": false
   },
   "outputs": [
    {
     "name": "stdout",
     "output_type": "stream",
     "text": [
      "<b>Hello. args: ('world', 'pythess'), kwargs: {'where': 'soho'}</b>\n"
     ]
    }
   ],
   "source": [
    "# Decorators can be instances of callable classes\n",
    "\n",
    "class BoldMaker:\n",
    "    def __init__(self, fn):\n",
    "        self.fn = fn\n",
    "    def __call__(self, *args, **kwargs):\n",
    "        return \"<b>\" + self.fn(*args, **kwargs) + \"</b>\"\n",
    "\n",
    "@BoldMaker  # hello = Bookmaker(hello)\n",
    "def hello(*args, **kwargs):\n",
    "    return \"Hello. args: {}, kwargs: {}\".format(args, kwargs)\n",
    "\n",
    "# hello.__call__(*args, **kwargs)\n",
    "print(hello('world', 'pythess', where='soho'))"
   ]
  },
  {
   "cell_type": "code",
   "execution_count": 9,
   "metadata": {
    "collapsed": false,
    "slideshow": {
     "slide_type": "slide"
    }
   },
   "outputs": [
    {
     "name": "stdout",
     "output_type": "stream",
     "text": [
      "<h1>hello world</h1>\n",
      "<p>hello world</p>\n",
      "<h1><p>hello world</p></h1>\n"
     ]
    }
   ],
   "source": [
    "# Decorators can take arguments\n",
    "\n",
    "def enclose_in_tags(opening_tag, closing_tag):  # returns a decorator\n",
    "    def make_with_tags(fn):  # returns a decorated function\n",
    "        def wrapped():  # the function to be decorated (modified)\n",
    "            return opening_tag + fn() + closing_tag\n",
    "        return wrapped\n",
    "    return make_with_tags\n",
    "\n",
    "# decorator function make_with_tags with the arguments in closure\n",
    "heading_decorator = enclose_in_tags('<h1>', '</h1>')\n",
    "paragraph_decorator = enclose_in_tags('<p>', '</p>')\n",
    "\n",
    "def hello():\n",
    "    return \"hello world\"\n",
    "\n",
    "h1_hello = heading_decorator(hello)\n",
    "p_hello = paragraph_decorator(hello)\n",
    "h1_p_hello = heading_decorator(paragraph_decorator(hello))\n",
    "print(h1_hello())\n",
    "print(p_hello())\n",
    "print(h1_p_hello())"
   ]
  },
  {
   "cell_type": "code",
   "execution_count": 22,
   "metadata": {
    "collapsed": false,
    "slideshow": {
     "slide_type": "slide"
    }
   },
   "outputs": [
    {
     "name": "stdout",
     "output_type": "stream",
     "text": [
      "<h1>hello world</h1>\n",
      "<p>hello world</p>\n",
      "<h1><p>hello world</p></h1>\n"
     ]
    }
   ],
   "source": [
    "# Decorators with arguments combined\n",
    "\n",
    "def enclose_in_tags(opening_tag, closing_tag):\n",
    "    def make_with_tags(fn):\n",
    "        def wrapped():\n",
    "            return opening_tag + fn() + closing_tag\n",
    "        return wrapped\n",
    "    return make_with_tags\n",
    "\n",
    "# hello = enclose_in_tags('<h1>', '</h1>')(hello)\n",
    "@enclose_in_tags('<h1>', '</h1>') \n",
    "def hello():\n",
    "    return \"hello world\"\n",
    "\n",
    "print(hello())\n",
    "\n",
    "# hello = enclose_in_tags('<p>', '</p>')(hello)\n",
    "@enclose_in_tags('<p>', '</p>')\n",
    "def hello():\n",
    "    return \"hello world\"\n",
    "\n",
    "print(hello())\n",
    "\n",
    "# enclose_in_tags('<h1>', '</h1>')(enclose_in_tags('<p>', '</p>')(hello))\n",
    "@enclose_in_tags('<h1>', '</h1>')\n",
    "@enclose_in_tags('<p>', '</p>')\n",
    "def hello():\n",
    "    return \"hello world\"\n",
    "\n",
    "print(hello())"
   ]
  },
  {
   "cell_type": "code",
   "execution_count": 23,
   "metadata": {
    "collapsed": false,
    "slideshow": {
     "slide_type": "slide"
    }
   },
   "outputs": [
    {
     "name": "stdout",
     "output_type": "stream",
     "text": [
      "<h1><p>hello world</p></h1>\n"
     ]
    }
   ],
   "source": [
    "# Decorators with arguments as instances of callable classes\n",
    "\n",
    "class TagEncloser:\n",
    "    def __init__(self, opening_tag, closing_tag):\n",
    "        self.opening_tag = opening_tag\n",
    "        self.closing_tag = closing_tag\n",
    "    def __call__(self, fn):\n",
    "        def wrapped():\n",
    "            return self.opening_tag + fn() + self.closing_tag\n",
    "        return wrapped\n",
    "\n",
    "tag_h1 = TagEncloser('<h1>', '</h1>')\n",
    "tag_p = TagEncloser('<p>', '</p>')\n",
    "\n",
    "@tag_h1\n",
    "@tag_p\n",
    "def hello():  # hello = tag_h1(tag_p(hello))\n",
    "    return \"hello world\"\n",
    "\n",
    "print(hello())"
   ]
  },
  {
   "cell_type": "markdown",
   "metadata": {
    "slideshow": {
     "slide_type": "slide"
    }
   },
   "source": [
    "# Iterables and Iterators\n",
    "\n",
    "1. **Iteration** is a general term for taking each item of something, one after another. Any time you use a loop, explicit or implicit, to go over a group of items, that is iteration.\n",
    "2. An **iterable** is an object that either:\n",
    "    * Has an `__iter__` method which returns an **iterator** for that object.\n",
    "    * Defines a `__getitem__` method that can take sequential indexes starting from zero (and raises an `IndexError` when the indexes are no longer valid). So an iterable is an object that you can get an iterator from.\n",
    "3. An **iterator** is a stateful helper object which defines a  `__next__` method and will produce the next value when you call ``next()`` on it. If there are no further items, it raises the `StopIteration` exception."
   ]
  },
  {
   "cell_type": "code",
   "execution_count": 5,
   "metadata": {
    "collapsed": false,
    "slideshow": {
     "slide_type": "slide"
    }
   },
   "outputs": [
    {
     "name": "stdout",
     "output_type": "stream",
     "text": [
      "1\n",
      "2\n",
      "1\n",
      "<class 'list'>\n",
      "<class 'list_iterator'>\n"
     ]
    }
   ],
   "source": [
    "x = [1, 2, 3]  # this is an iterable\n",
    "y = iter(x)  # an iterator of this iterable\n",
    "z = iter(x)  # another iterator of this iterable\n",
    "print(next(y))\n",
    "print(next(y))\n",
    "print(next(z))\n",
    "print(type(x))\n",
    "print(type(y))"
   ]
  },
  {
   "cell_type": "markdown",
   "metadata": {
    "slideshow": {
     "slide_type": "-"
    }
   },
   "source": [
    "* Here, `x` is the iter**able**, while `y` and `z` are two individual instances of an iterat**or**, producing values from the iterable x. Both `y` and `z` hold state, as you can see from the example. In this example, `x` is a data structure (a list), but that is not a requirement.\n",
    "* Often, for pragmatic reasons, iterable classes will implement both `__iter__()` and `__next__()` in the same class, and have `__iter__()` return `self`, which makes the class **both an iterable and its own iterator**. It is perfectly fine to return a different object as the iterator, though."
   ]
  },
  {
   "cell_type": "markdown",
   "metadata": {
    "collapsed": true,
    "slideshow": {
     "slide_type": "slide"
    }
   },
   "source": [
    "When you write:\n",
    "```python\n",
    "x = [1, 2, 3]\n",
    "for elem in x:\n",
    "    ...\n",
    "```\n",
    "This is what actually happens:\n",
    "<img src=\"figures/iterable_vs_iterator.png\" style=\"display:block;margin:auto;width:80%;\"/>"
   ]
  },
  {
   "cell_type": "code",
   "execution_count": 32,
   "metadata": {
    "collapsed": false,
    "slideshow": {
     "slide_type": "slide"
    }
   },
   "outputs": [
    {
     "name": "stdout",
     "output_type": "stream",
     "text": [
      "c\n",
      "a\n",
      "t\n",
      "StopIteration raised\n"
     ]
    }
   ],
   "source": [
    "s = 'cat'  # s is an ITERABLE\n",
    "           # s is a str object that is immutable\n",
    "           # s has no state\n",
    "           # s has a __getitem__() method \n",
    "\n",
    "t = iter(s)    # t is an ITERATOR\n",
    "               # t has state (it starts by pointing at the \"c\"\n",
    "               # t has a next() method and an __iter__() method\n",
    "try:\n",
    "    print(next(t))        # the next() function returns the next value and advances the state\n",
    "    print(next(t))        # the next() function returns the next value and advances\n",
    "    print(next(t))        # the next() function returns the next value and advances\n",
    "    print(next(t))        # next() raises StopIteration to signal that iteration is complete\n",
    "except StopIteration as e:\n",
    "    print(\"StopIteration raised\")"
   ]
  },
  {
   "cell_type": "code",
   "execution_count": 35,
   "metadata": {
    "collapsed": false,
    "slideshow": {
     "slide_type": "slide"
    }
   },
   "outputs": [
    {
     "name": "stdout",
     "output_type": "stream",
     "text": [
      "[1, 1, 2, 3, 5, 8, 13, 21, 34, 55]\n",
      "[1, 1, 2, 3, 5, 8, 13, 21, 34, 55]\n"
     ]
    }
   ],
   "source": [
    "# iterator that produces an arbitrary number of the Fibonacci series\n",
    "\n",
    "from itertools import islice\n",
    "\n",
    "class FibonacciIterator:\n",
    "    def __init__(self):\n",
    "        self.prev = 0\n",
    "        self.curr = 1\n",
    "    \n",
    "    def __iter__(self):\n",
    "        return self\n",
    "    \n",
    "    def __next__(self):\n",
    "        self.prev, self.curr = self.curr, self.prev + self.curr\n",
    "        return self.prev\n",
    "f = FibonacciIterator()\n",
    "print(list(islice(f, 0, 10)))\n",
    "f2 = FibonacciIterator()\n",
    "print([next(f2) for _i in range(10)])"
   ]
  },
  {
   "cell_type": "markdown",
   "metadata": {
    "collapsed": true,
    "slideshow": {
     "slide_type": "slide"
    }
   },
   "source": [
    "# Generators\n"
   ]
  },
  {
   "cell_type": "code",
   "execution_count": null,
   "metadata": {
    "collapsed": true
   },
   "outputs": [],
   "source": []
  },
  {
   "cell_type": "code",
   "execution_count": null,
   "metadata": {
    "collapsed": true
   },
   "outputs": [],
   "source": []
  },
  {
   "cell_type": "code",
   "execution_count": null,
   "metadata": {
    "collapsed": true
   },
   "outputs": [],
   "source": []
  },
  {
   "cell_type": "code",
   "execution_count": null,
   "metadata": {
    "collapsed": true
   },
   "outputs": [],
   "source": []
  },
  {
   "cell_type": "markdown",
   "metadata": {
    "collapsed": true,
    "slideshow": {
     "slide_type": "slide"
    }
   },
   "source": [
    "# References\n",
    "\n",
    "1. [K. Reitz - The Hitchhiker's Guide to Python](http://docs.python-guide.org/en/latest)\n",
    "* [PyToolz API Documentation](http://toolz.readthedocs.io/en/latest)\n",
    "* [StackOverflow - How to make a chain of function decorators in Python?](http://stackoverflow.com/questions/739654/how-to-make-a-chain-of-function-decorators-in-python)\n",
    "* [StackOverflow - What exactly are Python's iterator, iterable, and iteration protocols?](http://stackoverflow.com/questions/9884132/what-exactly-are-pythons-iterator-iterable-and-iteration-protocols)\n",
    "* [Bruce Eckel - Decorators I: Introduction to Python Decorators](http://www.artima.com/weblogs/viewpost.jsp?thread=240808)\n",
    "* [Bruce Eckel - Python Decorators II: Decorator Arguments](http://www.artima.com/weblogs/viewpost.jsp?thread=240845)\n",
    "* [V. Driessen - Iterables vs. Iterators vs. Generators](http://nvie.com/posts/iterators-vs-generators)\n",
    "* D. Mertz - Functional Programming in Python, O' Reilly (2015)\n",
    "* S. Lott - Functional Python Programming, Packt Publishing (2015)"
   ]
  },
  {
   "cell_type": "code",
   "execution_count": null,
   "metadata": {
    "collapsed": true
   },
   "outputs": [],
   "source": []
  }
 ],
 "metadata": {
  "celltoolbar": "Slideshow",
  "kernelspec": {
   "display_name": "Python 3",
   "language": "python",
   "name": "python3"
  },
  "language_info": {
   "codemirror_mode": {
    "name": "ipython",
    "version": 3
   },
   "file_extension": ".py",
   "mimetype": "text/x-python",
   "name": "python",
   "nbconvert_exporter": "python",
   "pygments_lexer": "ipython3",
   "version": "3.6.0"
  }
 },
 "nbformat": 4,
 "nbformat_minor": 2
}
